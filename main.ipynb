{
 "cells": [
  {
   "cell_type": "code",
   "execution_count": null,
   "metadata": {},
   "outputs": [],
   "source": [
    "import math\n",
    "import re\n",
    "\n",
    "import openrouteservice as ors\n",
    "import pandas as pd\n",
    "import plotly.express as px\n",
    "\n",
    "from geopy.geocoders import Nominatim"
   ]
  },
  {
   "cell_type": "code",
   "execution_count": 91,
   "metadata": {},
   "outputs": [],
   "source": [
    "# Set your city manually here\n",
    "city = \"Fort Worth, TX\"  # Change this as needed"
   ]
  },
  {
   "cell_type": "code",
   "execution_count": 92,
   "metadata": {},
   "outputs": [],
   "source": [
    "# Define the pattern for the city (case insensitive)\n",
    "city_pattern = re.compile(re.escape(city), re.IGNORECASE)\n",
    "\n",
    "# Open and read the file\n",
    "with open(\"listings.txt\", \"r\") as file:\n",
    "    data = file.read()\n",
    "\n",
    "# Find all lines that contain the city pattern\n",
    "matches = [line for line in data.splitlines() if city_pattern.search(line)]\n",
    "\n",
    "# Organize data by address (set to store unique addresses)\n",
    "unique_addresses = []\n",
    "address_prices = {}  # To store prices for each address\n",
    "\n",
    "# Go through each match and process data\n",
    "for match in matches:\n",
    "    # If there's a vertical bar '|', get everything after it (excluding space)\n",
    "    if '|' in match:\n",
    "        match = match.split('|', 1)[1].lstrip()  # Extract after the bar, remove leading spaces\n",
    "\n",
    "    # Add to list of unique addresses\n",
    "    if match not in unique_addresses:\n",
    "        unique_addresses.append(match)\n",
    "        address_prices[match] = set()  # Use a set to prevent duplicate prices\n",
    "\n",
    "# Iterate through the file again, this time collecting prices for each address\n",
    "current_address = None\n",
    "\n",
    "# Extract prices from the data\n",
    "for line in data.splitlines():\n",
    "    # Check if the line contains any of the unique addresses\n",
    "    for address in unique_addresses:\n",
    "        if address in line:\n",
    "            current_address = address  # Set current address when we find it\n",
    "            break\n",
    "\n",
    "    if current_address:  # If we've set a current address, check for prices\n",
    "        price_matches = re.findall(r'\\$(\\d{1,3}(?:,\\d{3})*)', line)  # Match prices\n",
    "        \n",
    "        if price_matches:\n",
    "            for price in price_matches:\n",
    "                address_prices[current_address].add(price)  # Use set to avoid duplicates\n",
    "\n",
    "# Now, convert the address_prices dictionary into a DataFrame\n",
    "rows = []\n",
    "columns = ['Address', 'Price']\n",
    "\n",
    "# Prepare rows for the DataFrame\n",
    "for address, prices in address_prices.items():\n",
    "    for price in prices:\n",
    "        rows.append([address, price])\n",
    "\n",
    "df = pd.DataFrame(rows, columns=columns)"
   ]
  },
  {
   "cell_type": "code",
   "execution_count": 93,
   "metadata": {},
   "outputs": [
    {
     "data": {
      "text/html": [
       "<div>\n",
       "<style scoped>\n",
       "    .dataframe tbody tr th:only-of-type {\n",
       "        vertical-align: middle;\n",
       "    }\n",
       "\n",
       "    .dataframe tbody tr th {\n",
       "        vertical-align: top;\n",
       "    }\n",
       "\n",
       "    .dataframe thead th {\n",
       "        text-align: right;\n",
       "    }\n",
       "</style>\n",
       "<table border=\"1\" class=\"dataframe\">\n",
       "  <thead>\n",
       "    <tr style=\"text-align: right;\">\n",
       "      <th></th>\n",
       "      <th>Address</th>\n",
       "      <th>Price</th>\n",
       "    </tr>\n",
       "  </thead>\n",
       "  <tbody>\n",
       "    <tr>\n",
       "      <th>0</th>\n",
       "      <td>6351 Hulen Bend Blvd, Fort Worth, TX</td>\n",
       "      <td>795</td>\n",
       "    </tr>\n",
       "    <tr>\n",
       "      <th>1</th>\n",
       "      <td>6351 Hulen Bend Blvd, Fort Worth, TX</td>\n",
       "      <td>1,247</td>\n",
       "    </tr>\n",
       "    <tr>\n",
       "      <th>2</th>\n",
       "      <td>6751 Westcreek Dr, Fort Worth, TX</td>\n",
       "      <td>799</td>\n",
       "    </tr>\n",
       "    <tr>\n",
       "      <th>3</th>\n",
       "      <td>3500 Renzel Blvd, Fort Worth, TX</td>\n",
       "      <td>1,199</td>\n",
       "    </tr>\n",
       "    <tr>\n",
       "      <th>4</th>\n",
       "      <td>3500 Renzel Blvd, Fort Worth, TX</td>\n",
       "      <td>845</td>\n",
       "    </tr>\n",
       "  </tbody>\n",
       "</table>\n",
       "</div>"
      ],
      "text/plain": [
       "                                Address  Price\n",
       "0  6351 Hulen Bend Blvd, Fort Worth, TX    795\n",
       "1  6351 Hulen Bend Blvd, Fort Worth, TX  1,247\n",
       "2     6751 Westcreek Dr, Fort Worth, TX    799\n",
       "3      3500 Renzel Blvd, Fort Worth, TX  1,199\n",
       "4      3500 Renzel Blvd, Fort Worth, TX    845"
      ]
     },
     "execution_count": 93,
     "metadata": {},
     "output_type": "execute_result"
    }
   ],
   "source": [
    "pd.set_option('display.max_colwidth', None)\n",
    "\n",
    "df.head()"
   ]
  },
  {
   "cell_type": "code",
   "execution_count": 94,
   "metadata": {},
   "outputs": [],
   "source": [
    "# OpenRouteService Client\n",
    "client = ors.Client(key='5b3ce3597851110001cf624817e35411a1444fc7901b0872949c4b86')\n",
    "\n",
    "# Initialize Geolocator for address geocoding\n",
    "geolocator = Nominatim(user_agent=\"address_optimizer\")\n",
    "\n",
    "# Fixed intermediate addresses (coordinates) that will be used for every route\n",
    "intermediate_coords = [\n",
    "    (32.74840963982297, -97.32497439905646),  # Address 1\n",
    "    (32.747705801640954, -97.35808003618311),  # Address 2\n",
    "    (32.7515678225884, -97.35133168289146)     # Address 3\n",
    "]\n",
    "\n",
    "# Function to calculate the centroid of the intermediate locations\n",
    "def calculate_centroid(coords):\n",
    "    latitudes = [coord[0] for coord in coords]\n",
    "    longitudes = [coord[1] for coord in coords]\n",
    "    \n",
    "    centroid_lat = sum(latitudes) / len(coords)\n",
    "    centroid_lon = sum(longitudes) / len(coords)\n",
    "    \n",
    "    return centroid_lat, centroid_lon\n",
    "\n",
    "# Calculate the centroid of the intermediate locations\n",
    "centroid_lat, centroid_lon = calculate_centroid(intermediate_coords)\n",
    "\n",
    "# List to store results for each address\n",
    "walk_times = []\n",
    "\n",
    "# Iterate over each address in the DataFrame\n",
    "for index, row in df.iterrows():\n",
    "    # Geocode the address for this row\n",
    "    location = geolocator.geocode(row['Address'])\n",
    "    \n",
    "    if location:\n",
    "        address_lat = location.latitude\n",
    "        address_lon = location.longitude\n",
    "        \n",
    "        # Use ORS Directions API to get walking time from the address to the centroid\n",
    "        route = client.directions(\n",
    "            coordinates=[(address_lon, address_lat), (centroid_lon, centroid_lat)], \n",
    "            profile='foot-walking', \n",
    "            format='geojson'\n",
    "        )\n",
    "        \n",
    "        # Extract the total walking time (in seconds)\n",
    "        if route['features']:\n",
    "            walking_time_seconds = route['features'][0]['properties']['segments'][0]['duration']\n",
    "            walking_time_minutes = walking_time_seconds / 60  # Convert to minutes\n",
    "        else:\n",
    "            walking_time_minutes = None  # In case there is an issue with the routing API\n",
    "        \n",
    "        # Store the result\n",
    "        walk_times.append({\n",
    "            'Address': row['Address'],\n",
    "            'Price': row['Price'],\n",
    "            'Walking Time to Centroid (minutes)': walking_time_minutes\n",
    "        })\n",
    "\n",
    "# Convert the results into a DataFrame for better readability\n",
    "walk_times_df = pd.DataFrame(walk_times)"
   ]
  },
  {
   "cell_type": "code",
   "execution_count": 116,
   "metadata": {},
   "outputs": [
    {
     "data": {
      "text/html": [
       "<div>\n",
       "<style scoped>\n",
       "    .dataframe tbody tr th:only-of-type {\n",
       "        vertical-align: middle;\n",
       "    }\n",
       "\n",
       "    .dataframe tbody tr th {\n",
       "        vertical-align: top;\n",
       "    }\n",
       "\n",
       "    .dataframe thead th {\n",
       "        text-align: right;\n",
       "    }\n",
       "</style>\n",
       "<table border=\"1\" class=\"dataframe\">\n",
       "  <thead>\n",
       "    <tr style=\"text-align: right;\">\n",
       "      <th></th>\n",
       "      <th>Address</th>\n",
       "      <th>Price</th>\n",
       "      <th>Walking Time to Centroid (minutes)</th>\n",
       "    </tr>\n",
       "  </thead>\n",
       "  <tbody>\n",
       "    <tr>\n",
       "      <th>31</th>\n",
       "      <td>1001 W 7th St, Fort Worth, TX</td>\n",
       "      <td>1190.0</td>\n",
       "      <td>16.696667</td>\n",
       "    </tr>\n",
       "    <tr>\n",
       "      <th>30</th>\n",
       "      <td>1012 Burnett St, Fort Worth, TX</td>\n",
       "      <td>1184.0</td>\n",
       "      <td>19.608333</td>\n",
       "    </tr>\n",
       "    <tr>\n",
       "      <th>27</th>\n",
       "      <td>929 Norwood St, Fort Worth, TX</td>\n",
       "      <td>1150.0</td>\n",
       "      <td>27.528333</td>\n",
       "    </tr>\n",
       "    <tr>\n",
       "      <th>29</th>\n",
       "      <td>3125 Sondra Dr, Fort Worth, TX</td>\n",
       "      <td>1182.0</td>\n",
       "      <td>34.093333</td>\n",
       "    </tr>\n",
       "    <tr>\n",
       "      <th>28</th>\n",
       "      <td>3125 Sondra Dr, Fort Worth, TX</td>\n",
       "      <td>1175.0</td>\n",
       "      <td>34.093333</td>\n",
       "    </tr>\n",
       "    <tr>\n",
       "      <th>22</th>\n",
       "      <td>555 Elm St, Fort Worth, TX</td>\n",
       "      <td>1106.0</td>\n",
       "      <td>34.726667</td>\n",
       "    </tr>\n",
       "    <tr>\n",
       "      <th>36</th>\n",
       "      <td>320 E Broadway Ave, Fort Worth, TX</td>\n",
       "      <td>1234.0</td>\n",
       "      <td>38.905000</td>\n",
       "    </tr>\n",
       "    <tr>\n",
       "      <th>37</th>\n",
       "      <td>336 Oakhurst Scenic Dr, Fort Worth, TX</td>\n",
       "      <td>1250.0</td>\n",
       "      <td>64.921667</td>\n",
       "    </tr>\n",
       "    <tr>\n",
       "      <th>11</th>\n",
       "      <td>4000 S Hulen St, Fort Worth, TX</td>\n",
       "      <td>998.0</td>\n",
       "      <td>79.593333</td>\n",
       "    </tr>\n",
       "    <tr>\n",
       "      <th>38</th>\n",
       "      <td>3224 Sandage Ave, Fort Worth, TX 76109</td>\n",
       "      <td>1250.0</td>\n",
       "      <td>88.485000</td>\n",
       "    </tr>\n",
       "    <tr>\n",
       "      <th>17</th>\n",
       "      <td>2501 Oak Hill Cir, Fort Worth, TX</td>\n",
       "      <td>1062.0</td>\n",
       "      <td>98.125000</td>\n",
       "    </tr>\n",
       "    <tr>\n",
       "      <th>6</th>\n",
       "      <td>2286 Ridgmar Plz, Fort Worth, TX</td>\n",
       "      <td>895.0</td>\n",
       "      <td>111.890000</td>\n",
       "    </tr>\n",
       "    <tr>\n",
       "      <th>5</th>\n",
       "      <td>2216 Ridgmar Plz, Fort Worth, TX</td>\n",
       "      <td>895.0</td>\n",
       "      <td>112.311667</td>\n",
       "    </tr>\n",
       "    <tr>\n",
       "      <th>34</th>\n",
       "      <td>5416 Chariot Dr, Fort Worth, TX 76107</td>\n",
       "      <td>1200.0</td>\n",
       "      <td>114.358333</td>\n",
       "    </tr>\n",
       "    <tr>\n",
       "      <th>35</th>\n",
       "      <td>2751 River Park Dr, Fort Worth, TX</td>\n",
       "      <td>1203.0</td>\n",
       "      <td>124.080000</td>\n",
       "    </tr>\n",
       "    <tr>\n",
       "      <th>19</th>\n",
       "      <td>3101 River Park Dr, Fort Worth, TX</td>\n",
       "      <td>1080.0</td>\n",
       "      <td>129.621667</td>\n",
       "    </tr>\n",
       "    <tr>\n",
       "      <th>39</th>\n",
       "      <td>4008 Fair Park Blvd, Fort Worth, TX 76115</td>\n",
       "      <td>1250.0</td>\n",
       "      <td>130.760000</td>\n",
       "    </tr>\n",
       "    <tr>\n",
       "      <th>13</th>\n",
       "      <td>6016 Westridge Ln, Fort Worth, TX</td>\n",
       "      <td>1000.0</td>\n",
       "      <td>132.075000</td>\n",
       "    </tr>\n",
       "    <tr>\n",
       "      <th>26</th>\n",
       "      <td>3450 River Park Dr, Fort Worth, TX</td>\n",
       "      <td>1125.0</td>\n",
       "      <td>142.511667</td>\n",
       "    </tr>\n",
       "    <tr>\n",
       "      <th>25</th>\n",
       "      <td>5400 Boca Raton Blvd, Fort Worth, TX</td>\n",
       "      <td>1117.0</td>\n",
       "      <td>162.565000</td>\n",
       "    </tr>\n",
       "    <tr>\n",
       "      <th>20</th>\n",
       "      <td>6196 Vega Dr, Fort Worth, TX 76133</td>\n",
       "      <td>1095.0</td>\n",
       "      <td>164.785000</td>\n",
       "    </tr>\n",
       "    <tr>\n",
       "      <th>12</th>\n",
       "      <td>5301 Overton Ridge Blvd, Fort Worth, TX</td>\n",
       "      <td>999.0</td>\n",
       "      <td>165.786667</td>\n",
       "    </tr>\n",
       "    <tr>\n",
       "      <th>16</th>\n",
       "      <td>5500 S Hulen St, Fort Worth, TX</td>\n",
       "      <td>1031.0</td>\n",
       "      <td>167.491667</td>\n",
       "    </tr>\n",
       "    <tr>\n",
       "      <th>2</th>\n",
       "      <td>6751 Westcreek Dr, Fort Worth, TX</td>\n",
       "      <td>799.0</td>\n",
       "      <td>178.688333</td>\n",
       "    </tr>\n",
       "    <tr>\n",
       "      <th>0</th>\n",
       "      <td>6351 Hulen Bend Blvd, Fort Worth, TX</td>\n",
       "      <td>795.0</td>\n",
       "      <td>186.138333</td>\n",
       "    </tr>\n",
       "    <tr>\n",
       "      <th>1</th>\n",
       "      <td>6351 Hulen Bend Blvd, Fort Worth, TX</td>\n",
       "      <td>1247.0</td>\n",
       "      <td>186.138333</td>\n",
       "    </tr>\n",
       "    <tr>\n",
       "      <th>23</th>\n",
       "      <td>7301 Oakmont Blvd, Fort Worth, TX</td>\n",
       "      <td>1109.0</td>\n",
       "      <td>191.370000</td>\n",
       "    </tr>\n",
       "    <tr>\n",
       "      <th>8</th>\n",
       "      <td>7000 John T White Rd, Fort Worth, TX</td>\n",
       "      <td>1150.0</td>\n",
       "      <td>197.391667</td>\n",
       "    </tr>\n",
       "    <tr>\n",
       "      <th>7</th>\n",
       "      <td>7000 John T White Rd, Fort Worth, TX</td>\n",
       "      <td>900.0</td>\n",
       "      <td>197.391667</td>\n",
       "    </tr>\n",
       "    <tr>\n",
       "      <th>4</th>\n",
       "      <td>3500 Renzel Blvd, Fort Worth, TX</td>\n",
       "      <td>845.0</td>\n",
       "      <td>200.083333</td>\n",
       "    </tr>\n",
       "    <tr>\n",
       "      <th>3</th>\n",
       "      <td>3500 Renzel Blvd, Fort Worth, TX</td>\n",
       "      <td>1199.0</td>\n",
       "      <td>200.083333</td>\n",
       "    </tr>\n",
       "    <tr>\n",
       "      <th>21</th>\n",
       "      <td>7901 Chandra Ln, Fort Worth, TX</td>\n",
       "      <td>1099.0</td>\n",
       "      <td>202.316667</td>\n",
       "    </tr>\n",
       "    <tr>\n",
       "      <th>18</th>\n",
       "      <td>7354 Harris Pkwy, Fort Worth, TX</td>\n",
       "      <td>1075.0</td>\n",
       "      <td>224.436667</td>\n",
       "    </tr>\n",
       "    <tr>\n",
       "      <th>15</th>\n",
       "      <td>2650 Western Center Blvd, Fort Worth, TX</td>\n",
       "      <td>1176.0</td>\n",
       "      <td>225.208333</td>\n",
       "    </tr>\n",
       "    <tr>\n",
       "      <th>14</th>\n",
       "      <td>2650 Western Center Blvd, Fort Worth, TX</td>\n",
       "      <td>1008.0</td>\n",
       "      <td>225.208333</td>\n",
       "    </tr>\n",
       "    <tr>\n",
       "      <th>24</th>\n",
       "      <td>7301 Ederville Rd, Fort Worth, TX</td>\n",
       "      <td>1110.0</td>\n",
       "      <td>234.973333</td>\n",
       "    </tr>\n",
       "    <tr>\n",
       "      <th>32</th>\n",
       "      <td>5344 Sycamore School Rd, Fort Worth, TX</td>\n",
       "      <td>1195.0</td>\n",
       "      <td>236.521667</td>\n",
       "    </tr>\n",
       "    <tr>\n",
       "      <th>9</th>\n",
       "      <td>8900 Randol Mill Rd, Fort Worth, TX</td>\n",
       "      <td>1175.0</td>\n",
       "      <td>293.458333</td>\n",
       "    </tr>\n",
       "    <tr>\n",
       "      <th>10</th>\n",
       "      <td>8900 Randol Mill Rd, Fort Worth, TX</td>\n",
       "      <td>905.0</td>\n",
       "      <td>293.458333</td>\n",
       "    </tr>\n",
       "    <tr>\n",
       "      <th>33</th>\n",
       "      <td>15848 Championship Pkwy, Fort Worth, TX</td>\n",
       "      <td>1199.0</td>\n",
       "      <td>515.725000</td>\n",
       "    </tr>\n",
       "  </tbody>\n",
       "</table>\n",
       "</div>"
      ],
      "text/plain": [
       "                                      Address   Price  \\\n",
       "31              1001 W 7th St, Fort Worth, TX  1190.0   \n",
       "30            1012 Burnett St, Fort Worth, TX  1184.0   \n",
       "27             929 Norwood St, Fort Worth, TX  1150.0   \n",
       "29             3125 Sondra Dr, Fort Worth, TX  1182.0   \n",
       "28             3125 Sondra Dr, Fort Worth, TX  1175.0   \n",
       "22                 555 Elm St, Fort Worth, TX  1106.0   \n",
       "36         320 E Broadway Ave, Fort Worth, TX  1234.0   \n",
       "37     336 Oakhurst Scenic Dr, Fort Worth, TX  1250.0   \n",
       "11            4000 S Hulen St, Fort Worth, TX   998.0   \n",
       "38     3224 Sandage Ave, Fort Worth, TX 76109  1250.0   \n",
       "17          2501 Oak Hill Cir, Fort Worth, TX  1062.0   \n",
       "6            2286 Ridgmar Plz, Fort Worth, TX   895.0   \n",
       "5            2216 Ridgmar Plz, Fort Worth, TX   895.0   \n",
       "34      5416 Chariot Dr, Fort Worth, TX 76107  1200.0   \n",
       "35         2751 River Park Dr, Fort Worth, TX  1203.0   \n",
       "19         3101 River Park Dr, Fort Worth, TX  1080.0   \n",
       "39  4008 Fair Park Blvd, Fort Worth, TX 76115  1250.0   \n",
       "13          6016 Westridge Ln, Fort Worth, TX  1000.0   \n",
       "26         3450 River Park Dr, Fort Worth, TX  1125.0   \n",
       "25       5400 Boca Raton Blvd, Fort Worth, TX  1117.0   \n",
       "20         6196 Vega Dr, Fort Worth, TX 76133  1095.0   \n",
       "12    5301 Overton Ridge Blvd, Fort Worth, TX   999.0   \n",
       "16            5500 S Hulen St, Fort Worth, TX  1031.0   \n",
       "2           6751 Westcreek Dr, Fort Worth, TX   799.0   \n",
       "0        6351 Hulen Bend Blvd, Fort Worth, TX   795.0   \n",
       "1        6351 Hulen Bend Blvd, Fort Worth, TX  1247.0   \n",
       "23          7301 Oakmont Blvd, Fort Worth, TX  1109.0   \n",
       "8        7000 John T White Rd, Fort Worth, TX  1150.0   \n",
       "7        7000 John T White Rd, Fort Worth, TX   900.0   \n",
       "4            3500 Renzel Blvd, Fort Worth, TX   845.0   \n",
       "3            3500 Renzel Blvd, Fort Worth, TX  1199.0   \n",
       "21            7901 Chandra Ln, Fort Worth, TX  1099.0   \n",
       "18           7354 Harris Pkwy, Fort Worth, TX  1075.0   \n",
       "15   2650 Western Center Blvd, Fort Worth, TX  1176.0   \n",
       "14   2650 Western Center Blvd, Fort Worth, TX  1008.0   \n",
       "24          7301 Ederville Rd, Fort Worth, TX  1110.0   \n",
       "32    5344 Sycamore School Rd, Fort Worth, TX  1195.0   \n",
       "9         8900 Randol Mill Rd, Fort Worth, TX  1175.0   \n",
       "10        8900 Randol Mill Rd, Fort Worth, TX   905.0   \n",
       "33    15848 Championship Pkwy, Fort Worth, TX  1199.0   \n",
       "\n",
       "    Walking Time to Centroid (minutes)  \n",
       "31                           16.696667  \n",
       "30                           19.608333  \n",
       "27                           27.528333  \n",
       "29                           34.093333  \n",
       "28                           34.093333  \n",
       "22                           34.726667  \n",
       "36                           38.905000  \n",
       "37                           64.921667  \n",
       "11                           79.593333  \n",
       "38                           88.485000  \n",
       "17                           98.125000  \n",
       "6                           111.890000  \n",
       "5                           112.311667  \n",
       "34                          114.358333  \n",
       "35                          124.080000  \n",
       "19                          129.621667  \n",
       "39                          130.760000  \n",
       "13                          132.075000  \n",
       "26                          142.511667  \n",
       "25                          162.565000  \n",
       "20                          164.785000  \n",
       "12                          165.786667  \n",
       "16                          167.491667  \n",
       "2                           178.688333  \n",
       "0                           186.138333  \n",
       "1                           186.138333  \n",
       "23                          191.370000  \n",
       "8                           197.391667  \n",
       "7                           197.391667  \n",
       "4                           200.083333  \n",
       "3                           200.083333  \n",
       "21                          202.316667  \n",
       "18                          224.436667  \n",
       "15                          225.208333  \n",
       "14                          225.208333  \n",
       "24                          234.973333  \n",
       "32                          236.521667  \n",
       "9                           293.458333  \n",
       "10                          293.458333  \n",
       "33                          515.725000  "
      ]
     },
     "execution_count": 116,
     "metadata": {},
     "output_type": "execute_result"
    }
   ],
   "source": [
    "# Remove commas from the 'Price' column and convert it to numeric\n",
    "walk_times_df_sorted['Price'] = walk_times_df_sorted['Price'].str.replace(',', '').astype(float)\n",
    "\n",
    "# Sort the DataFrame based on 'Walking Time to Centroid (minutes)'\n",
    "walk_times_df_sorted = walk_times_df_sorted.sort_values(by='Walking Time to Centroid (minutes)', ascending=True)\n",
    "\n",
    "# Save the sorted DataFrame to a new CSV file\n",
    "walk_times_df_sorted.to_csv('walk_times_sorted.csv', index=False)\n",
    "\n",
    "# Display the DataFrame\n",
    "walk_times_df_sorted"
   ]
  },
  {
   "cell_type": "code",
   "execution_count": 117,
   "metadata": {},
   "outputs": [],
   "source": [
    "walk_times_df_sorted = pd.read_csv('walk_times_sorted.csv')"
   ]
  },
  {
   "cell_type": "code",
   "execution_count": null,
   "metadata": {},
   "outputs": [
    {
     "data": {
      "application/vnd.plotly.v1+json": {
       "config": {
        "plotlyServerURL": "https://plot.ly"
       },
       "data": [
        {
         "hovertemplate": "<b>%{hovertext}</b><br><br>Price ($)=%{x}<br>Walking Time (minutes)=%{y}<br>Dominated Count=%{marker.color}<extra></extra>",
         "hovertext": [
          "1001 W 7th St, Fort Worth, TX",
          "1012 Burnett St, Fort Worth, TX",
          "929 Norwood St, Fort Worth, TX",
          "3125 Sondra Dr, Fort Worth, TX",
          "555 Elm St, Fort Worth, TX",
          "4000 S Hulen St, Fort Worth, TX",
          "2501 Oak Hill Cir, Fort Worth, TX",
          "2286 Ridgmar Plz, Fort Worth, TX",
          "3101 River Park Dr, Fort Worth, TX",
          "6016 Westridge Ln, Fort Worth, TX",
          "5400 Boca Raton Blvd, Fort Worth, TX",
          "6196 Vega Dr, Fort Worth, TX 76133",
          "5301 Overton Ridge Blvd, Fort Worth, TX",
          "6751 Westcreek Dr, Fort Worth, TX",
          "6351 Hulen Bend Blvd, Fort Worth, TX",
          "7301 Oakmont Blvd, Fort Worth, TX",
          "7000 John T White Rd, Fort Worth, TX",
          "3500 Renzel Blvd, Fort Worth, TX",
          "7901 Chandra Ln, Fort Worth, TX",
          "7354 Harris Pkwy, Fort Worth, TX",
          "2650 Western Center Blvd, Fort Worth, TX",
          "8900 Randol Mill Rd, Fort Worth, TX",
          "8900 Randol Mill Rd, Fort Worth, TX"
         ],
         "legendgroup": "",
         "marker": {
          "color": {
           "bdata": "CgoOCxEYEhgOEAcKDQ8OBwoJBQUEAQE=",
           "dtype": "i1"
          },
          "coloraxis": "coloraxis",
          "line": {
           "color": "DarkSlateGrey",
           "width": 2
          },
          "opacity": 0.8,
          "size": 12,
          "symbol": "circle"
         },
         "mode": "markers",
         "name": "",
         "orientation": "v",
         "showlegend": false,
         "type": "scatter",
         "x": {
          "bdata": "AAAAAACYkkAAAAAAAICSQAAAAAAA+JFAAAAAAABckkAAAAAAAEiRQAAAAAAAMI9AAAAAAACYkEAAAAAAAPiLQAAAAAAA4JBAAAAAAABAj0AAAAAAAHSRQAAAAAAAHJFAAAAAAAA4j0AAAAAAAPiIQAAAAAAA2IhAAAAAAABUkUAAAAAAACCMQAAAAAAAaIpAAAAAAAAskUAAAAAAAMyQQAAAAAAAgI9AAAAAAABckkAAAAAAAEiMQA==",
          "dtype": "f8"
         },
         "xaxis": "x",
         "y": {
          "bdata": "8oslv1iyMEC7u7u7u5szQKYNdNpAhztAjCW/WPILQUCdNtBpA11BQMaSXyz55VNAAAAAAACIWEApXI/C9fhbQBhLfrHkM2BAZmZmZmaCYECuR+F6FFJkQIXrUbgemWRA+sWSXyy5ZEA6baDTBlZmQJ/TBjptRGdApHA9CtfrZ0CJiIiIiKxoQKqqqqqqAmlAISIiIiJKaUDGkl8s+Q1sQKqqqqqqJmxAVVVVVVVXckBVVVVVVVdyQA==",
          "dtype": "f8"
         },
         "yaxis": "y"
        }
       ],
       "layout": {
        "coloraxis": {
         "colorbar": {
          "title": {
           "text": "Dominated Count"
          }
         },
         "colorscale": [
          [
           0,
           "#440154"
          ],
          [
           0.1111111111111111,
           "#482878"
          ],
          [
           0.2222222222222222,
           "#3e4989"
          ],
          [
           0.3333333333333333,
           "#31688e"
          ],
          [
           0.4444444444444444,
           "#26828e"
          ],
          [
           0.5555555555555556,
           "#1f9e89"
          ],
          [
           0.6666666666666666,
           "#35b779"
          ],
          [
           0.7777777777777778,
           "#6ece58"
          ],
          [
           0.8888888888888888,
           "#b5de2b"
          ],
          [
           1,
           "#fde725"
          ]
         ]
        },
        "legend": {
         "tracegroupgap": 0
        },
        "template": {
         "data": {
          "bar": [
           {
            "error_x": {
             "color": "#f2f5fa"
            },
            "error_y": {
             "color": "#f2f5fa"
            },
            "marker": {
             "line": {
              "color": "rgb(17,17,17)",
              "width": 0.5
             },
             "pattern": {
              "fillmode": "overlay",
              "size": 10,
              "solidity": 0.2
             }
            },
            "type": "bar"
           }
          ],
          "barpolar": [
           {
            "marker": {
             "line": {
              "color": "rgb(17,17,17)",
              "width": 0.5
             },
             "pattern": {
              "fillmode": "overlay",
              "size": 10,
              "solidity": 0.2
             }
            },
            "type": "barpolar"
           }
          ],
          "carpet": [
           {
            "aaxis": {
             "endlinecolor": "#A2B1C6",
             "gridcolor": "#506784",
             "linecolor": "#506784",
             "minorgridcolor": "#506784",
             "startlinecolor": "#A2B1C6"
            },
            "baxis": {
             "endlinecolor": "#A2B1C6",
             "gridcolor": "#506784",
             "linecolor": "#506784",
             "minorgridcolor": "#506784",
             "startlinecolor": "#A2B1C6"
            },
            "type": "carpet"
           }
          ],
          "choropleth": [
           {
            "colorbar": {
             "outlinewidth": 0,
             "ticks": ""
            },
            "type": "choropleth"
           }
          ],
          "contour": [
           {
            "colorbar": {
             "outlinewidth": 0,
             "ticks": ""
            },
            "colorscale": [
             [
              0,
              "#0d0887"
             ],
             [
              0.1111111111111111,
              "#46039f"
             ],
             [
              0.2222222222222222,
              "#7201a8"
             ],
             [
              0.3333333333333333,
              "#9c179e"
             ],
             [
              0.4444444444444444,
              "#bd3786"
             ],
             [
              0.5555555555555556,
              "#d8576b"
             ],
             [
              0.6666666666666666,
              "#ed7953"
             ],
             [
              0.7777777777777778,
              "#fb9f3a"
             ],
             [
              0.8888888888888888,
              "#fdca26"
             ],
             [
              1,
              "#f0f921"
             ]
            ],
            "type": "contour"
           }
          ],
          "contourcarpet": [
           {
            "colorbar": {
             "outlinewidth": 0,
             "ticks": ""
            },
            "type": "contourcarpet"
           }
          ],
          "heatmap": [
           {
            "colorbar": {
             "outlinewidth": 0,
             "ticks": ""
            },
            "colorscale": [
             [
              0,
              "#0d0887"
             ],
             [
              0.1111111111111111,
              "#46039f"
             ],
             [
              0.2222222222222222,
              "#7201a8"
             ],
             [
              0.3333333333333333,
              "#9c179e"
             ],
             [
              0.4444444444444444,
              "#bd3786"
             ],
             [
              0.5555555555555556,
              "#d8576b"
             ],
             [
              0.6666666666666666,
              "#ed7953"
             ],
             [
              0.7777777777777778,
              "#fb9f3a"
             ],
             [
              0.8888888888888888,
              "#fdca26"
             ],
             [
              1,
              "#f0f921"
             ]
            ],
            "type": "heatmap"
           }
          ],
          "histogram": [
           {
            "marker": {
             "pattern": {
              "fillmode": "overlay",
              "size": 10,
              "solidity": 0.2
             }
            },
            "type": "histogram"
           }
          ],
          "histogram2d": [
           {
            "colorbar": {
             "outlinewidth": 0,
             "ticks": ""
            },
            "colorscale": [
             [
              0,
              "#0d0887"
             ],
             [
              0.1111111111111111,
              "#46039f"
             ],
             [
              0.2222222222222222,
              "#7201a8"
             ],
             [
              0.3333333333333333,
              "#9c179e"
             ],
             [
              0.4444444444444444,
              "#bd3786"
             ],
             [
              0.5555555555555556,
              "#d8576b"
             ],
             [
              0.6666666666666666,
              "#ed7953"
             ],
             [
              0.7777777777777778,
              "#fb9f3a"
             ],
             [
              0.8888888888888888,
              "#fdca26"
             ],
             [
              1,
              "#f0f921"
             ]
            ],
            "type": "histogram2d"
           }
          ],
          "histogram2dcontour": [
           {
            "colorbar": {
             "outlinewidth": 0,
             "ticks": ""
            },
            "colorscale": [
             [
              0,
              "#0d0887"
             ],
             [
              0.1111111111111111,
              "#46039f"
             ],
             [
              0.2222222222222222,
              "#7201a8"
             ],
             [
              0.3333333333333333,
              "#9c179e"
             ],
             [
              0.4444444444444444,
              "#bd3786"
             ],
             [
              0.5555555555555556,
              "#d8576b"
             ],
             [
              0.6666666666666666,
              "#ed7953"
             ],
             [
              0.7777777777777778,
              "#fb9f3a"
             ],
             [
              0.8888888888888888,
              "#fdca26"
             ],
             [
              1,
              "#f0f921"
             ]
            ],
            "type": "histogram2dcontour"
           }
          ],
          "mesh3d": [
           {
            "colorbar": {
             "outlinewidth": 0,
             "ticks": ""
            },
            "type": "mesh3d"
           }
          ],
          "parcoords": [
           {
            "line": {
             "colorbar": {
              "outlinewidth": 0,
              "ticks": ""
             }
            },
            "type": "parcoords"
           }
          ],
          "pie": [
           {
            "automargin": true,
            "type": "pie"
           }
          ],
          "scatter": [
           {
            "marker": {
             "line": {
              "color": "#283442"
             }
            },
            "type": "scatter"
           }
          ],
          "scatter3d": [
           {
            "line": {
             "colorbar": {
              "outlinewidth": 0,
              "ticks": ""
             }
            },
            "marker": {
             "colorbar": {
              "outlinewidth": 0,
              "ticks": ""
             }
            },
            "type": "scatter3d"
           }
          ],
          "scattercarpet": [
           {
            "marker": {
             "colorbar": {
              "outlinewidth": 0,
              "ticks": ""
             }
            },
            "type": "scattercarpet"
           }
          ],
          "scattergeo": [
           {
            "marker": {
             "colorbar": {
              "outlinewidth": 0,
              "ticks": ""
             }
            },
            "type": "scattergeo"
           }
          ],
          "scattergl": [
           {
            "marker": {
             "line": {
              "color": "#283442"
             }
            },
            "type": "scattergl"
           }
          ],
          "scattermap": [
           {
            "marker": {
             "colorbar": {
              "outlinewidth": 0,
              "ticks": ""
             }
            },
            "type": "scattermap"
           }
          ],
          "scattermapbox": [
           {
            "marker": {
             "colorbar": {
              "outlinewidth": 0,
              "ticks": ""
             }
            },
            "type": "scattermapbox"
           }
          ],
          "scatterpolar": [
           {
            "marker": {
             "colorbar": {
              "outlinewidth": 0,
              "ticks": ""
             }
            },
            "type": "scatterpolar"
           }
          ],
          "scatterpolargl": [
           {
            "marker": {
             "colorbar": {
              "outlinewidth": 0,
              "ticks": ""
             }
            },
            "type": "scatterpolargl"
           }
          ],
          "scatterternary": [
           {
            "marker": {
             "colorbar": {
              "outlinewidth": 0,
              "ticks": ""
             }
            },
            "type": "scatterternary"
           }
          ],
          "surface": [
           {
            "colorbar": {
             "outlinewidth": 0,
             "ticks": ""
            },
            "colorscale": [
             [
              0,
              "#0d0887"
             ],
             [
              0.1111111111111111,
              "#46039f"
             ],
             [
              0.2222222222222222,
              "#7201a8"
             ],
             [
              0.3333333333333333,
              "#9c179e"
             ],
             [
              0.4444444444444444,
              "#bd3786"
             ],
             [
              0.5555555555555556,
              "#d8576b"
             ],
             [
              0.6666666666666666,
              "#ed7953"
             ],
             [
              0.7777777777777778,
              "#fb9f3a"
             ],
             [
              0.8888888888888888,
              "#fdca26"
             ],
             [
              1,
              "#f0f921"
             ]
            ],
            "type": "surface"
           }
          ],
          "table": [
           {
            "cells": {
             "fill": {
              "color": "#506784"
             },
             "line": {
              "color": "rgb(17,17,17)"
             }
            },
            "header": {
             "fill": {
              "color": "#2a3f5f"
             },
             "line": {
              "color": "rgb(17,17,17)"
             }
            },
            "type": "table"
           }
          ]
         },
         "layout": {
          "annotationdefaults": {
           "arrowcolor": "#f2f5fa",
           "arrowhead": 0,
           "arrowwidth": 1
          },
          "autotypenumbers": "strict",
          "coloraxis": {
           "colorbar": {
            "outlinewidth": 0,
            "ticks": ""
           }
          },
          "colorscale": {
           "diverging": [
            [
             0,
             "#8e0152"
            ],
            [
             0.1,
             "#c51b7d"
            ],
            [
             0.2,
             "#de77ae"
            ],
            [
             0.3,
             "#f1b6da"
            ],
            [
             0.4,
             "#fde0ef"
            ],
            [
             0.5,
             "#f7f7f7"
            ],
            [
             0.6,
             "#e6f5d0"
            ],
            [
             0.7,
             "#b8e186"
            ],
            [
             0.8,
             "#7fbc41"
            ],
            [
             0.9,
             "#4d9221"
            ],
            [
             1,
             "#276419"
            ]
           ],
           "sequential": [
            [
             0,
             "#0d0887"
            ],
            [
             0.1111111111111111,
             "#46039f"
            ],
            [
             0.2222222222222222,
             "#7201a8"
            ],
            [
             0.3333333333333333,
             "#9c179e"
            ],
            [
             0.4444444444444444,
             "#bd3786"
            ],
            [
             0.5555555555555556,
             "#d8576b"
            ],
            [
             0.6666666666666666,
             "#ed7953"
            ],
            [
             0.7777777777777778,
             "#fb9f3a"
            ],
            [
             0.8888888888888888,
             "#fdca26"
            ],
            [
             1,
             "#f0f921"
            ]
           ],
           "sequentialminus": [
            [
             0,
             "#0d0887"
            ],
            [
             0.1111111111111111,
             "#46039f"
            ],
            [
             0.2222222222222222,
             "#7201a8"
            ],
            [
             0.3333333333333333,
             "#9c179e"
            ],
            [
             0.4444444444444444,
             "#bd3786"
            ],
            [
             0.5555555555555556,
             "#d8576b"
            ],
            [
             0.6666666666666666,
             "#ed7953"
            ],
            [
             0.7777777777777778,
             "#fb9f3a"
            ],
            [
             0.8888888888888888,
             "#fdca26"
            ],
            [
             1,
             "#f0f921"
            ]
           ]
          },
          "colorway": [
           "#636efa",
           "#EF553B",
           "#00cc96",
           "#ab63fa",
           "#FFA15A",
           "#19d3f3",
           "#FF6692",
           "#B6E880",
           "#FF97FF",
           "#FECB52"
          ],
          "font": {
           "color": "#f2f5fa"
          },
          "geo": {
           "bgcolor": "rgb(17,17,17)",
           "lakecolor": "rgb(17,17,17)",
           "landcolor": "rgb(17,17,17)",
           "showlakes": true,
           "showland": true,
           "subunitcolor": "#506784"
          },
          "hoverlabel": {
           "align": "left"
          },
          "hovermode": "closest",
          "mapbox": {
           "style": "dark"
          },
          "paper_bgcolor": "rgb(17,17,17)",
          "plot_bgcolor": "rgb(17,17,17)",
          "polar": {
           "angularaxis": {
            "gridcolor": "#506784",
            "linecolor": "#506784",
            "ticks": ""
           },
           "bgcolor": "rgb(17,17,17)",
           "radialaxis": {
            "gridcolor": "#506784",
            "linecolor": "#506784",
            "ticks": ""
           }
          },
          "scene": {
           "xaxis": {
            "backgroundcolor": "rgb(17,17,17)",
            "gridcolor": "#506784",
            "gridwidth": 2,
            "linecolor": "#506784",
            "showbackground": true,
            "ticks": "",
            "zerolinecolor": "#C8D4E3"
           },
           "yaxis": {
            "backgroundcolor": "rgb(17,17,17)",
            "gridcolor": "#506784",
            "gridwidth": 2,
            "linecolor": "#506784",
            "showbackground": true,
            "ticks": "",
            "zerolinecolor": "#C8D4E3"
           },
           "zaxis": {
            "backgroundcolor": "rgb(17,17,17)",
            "gridcolor": "#506784",
            "gridwidth": 2,
            "linecolor": "#506784",
            "showbackground": true,
            "ticks": "",
            "zerolinecolor": "#C8D4E3"
           }
          },
          "shapedefaults": {
           "line": {
            "color": "#f2f5fa"
           }
          },
          "sliderdefaults": {
           "bgcolor": "#C8D4E3",
           "bordercolor": "rgb(17,17,17)",
           "borderwidth": 1,
           "tickwidth": 0
          },
          "ternary": {
           "aaxis": {
            "gridcolor": "#506784",
            "linecolor": "#506784",
            "ticks": ""
           },
           "baxis": {
            "gridcolor": "#506784",
            "linecolor": "#506784",
            "ticks": ""
           },
           "bgcolor": "rgb(17,17,17)",
           "caxis": {
            "gridcolor": "#506784",
            "linecolor": "#506784",
            "ticks": ""
           }
          },
          "title": {
           "x": 0.05
          },
          "updatemenudefaults": {
           "bgcolor": "#506784",
           "borderwidth": 0
          },
          "xaxis": {
           "automargin": true,
           "gridcolor": "#283442",
           "linecolor": "#506784",
           "ticks": "",
           "title": {
            "standoff": 15
           },
           "zerolinecolor": "#283442",
           "zerolinewidth": 2
          },
          "yaxis": {
           "automargin": true,
           "gridcolor": "#283442",
           "linecolor": "#506784",
           "ticks": "",
           "title": {
            "standoff": 15
           },
           "zerolinecolor": "#283442",
           "zerolinewidth": 2
          }
         }
        },
        "title": {
         "text": "Pareto Front: Price vs Walking Time"
        },
        "xaxis": {
         "anchor": "y",
         "domain": [
          0,
          1
         ],
         "range": [
          775.25,
          1209.75
         ],
         "title": {
          "text": "Price ($)"
         },
         "type": "linear"
        },
        "yaxis": {
         "anchor": "x",
         "domain": [
          0,
          1
         ],
         "range": [
          2.858583333333332,
          307.29641666666663
         ],
         "title": {
          "text": "Walking Time (minutes)"
         }
        }
       }
      }
     },
     "metadata": {},
     "output_type": "display_data"
    }
   ],
   "source": [
    "# Ensure 'Price' is numeric (in case it wasn't recognized correctly)\n",
    "walk_times_df_sorted['Price'] = pd.to_numeric(walk_times_df_sorted['Price'], errors='coerce')\n",
    "\n",
    "# Initialize a new column to count the number of dominated points\n",
    "walk_times_df_sorted['Dominated Count'] = 0\n",
    "\n",
    "# Loop through each point and compare it with all other points to count the dominated points\n",
    "for i in range(len(walk_times_df_sorted)):\n",
    "    for j in range(len(walk_times_df_sorted)):\n",
    "        # If point i dominates point j, increment the dominated count for point i\n",
    "        if (walk_times_df_sorted.iloc[i]['Price'] < walk_times_df_sorted.iloc[j]['Price'] and\n",
    "            walk_times_df_sorted.iloc[i]['Walking Time to Centroid (minutes)'] < walk_times_df_sorted.iloc[j]['Walking Time to Centroid (minutes)']):\n",
    "            walk_times_df_sorted.at[i, 'Dominated Count'] += 1\n",
    "\n",
    "# Create a new column for the \"Pareto front\"\n",
    "walk_times_df_sorted['Pareto Front'] = True\n",
    "for i in range(1, len(walk_times_df_sorted)):\n",
    "    if (walk_times_df_sorted.iloc[i]['Price'] >= walk_times_df_sorted.iloc[i-1]['Price'] and \n",
    "        walk_times_df_sorted.iloc[i]['Walking Time to Centroid (minutes)'] >= walk_times_df_sorted.iloc[i-1]['Walking Time to Centroid (minutes)']):\n",
    "        walk_times_df_sorted.at[i, 'Pareto Front'] = False\n",
    "\n",
    "# Filter out the Pareto front\n",
    "pareto_front = walk_times_df_sorted[walk_times_df_sorted['Pareto Front']]\n",
    "\n",
    "# Create an interactive scatter plot using Plotly, color the points based on \"Dominated Count\"\n",
    "fig = px.scatter(\n",
    "    pareto_front, \n",
    "    x='Price', \n",
    "    y='Walking Time to Centroid (minutes)', \n",
    "    hover_name='Address',  # This shows the address only on hover\n",
    "    title='Pareto Front: Price vs Walking Time',\n",
    "    labels={'Price': 'Price ($)', 'Walking Time to Centroid (minutes)': 'Walking Time (minutes)'},\n",
    "    color='Dominated Count',  # Color based on how many points the point dominates\n",
    "    color_continuous_scale='Viridis',  # Optional: you can change the color scale\n",
    "    template='plotly_dark'\n",
    ")\n",
    "\n",
    "# Adding a small margin to the axis range to prevent points from going off the edges\n",
    "x_margin = (pareto_front['Price'].max() - pareto_front['Price'].min()) * 0.05  # 5% margin\n",
    "y_margin = (pareto_front['Walking Time to Centroid (minutes)'].max() - pareto_front['Walking Time to Centroid (minutes)'].min()) * 0.05  # 5% margin\n",
    "\n",
    "# Update the layout to ensure the x-axis is numeric and increasing\n",
    "fig.update_layout(\n",
    "    xaxis=dict(type='linear', title='Price ($)', range=[pareto_front['Price'].min() - x_margin, pareto_front['Price'].max() + x_margin]),\n",
    "    yaxis=dict(title='Walking Time (minutes)', range=[pareto_front['Walking Time to Centroid (minutes)'].min() - y_margin, pareto_front['Walking Time to Centroid (minutes)'].max() + y_margin]),\n",
    ")\n",
    "\n",
    "# Update the layout to make the graph more interactive\n",
    "fig.update_traces(\n",
    "    marker=dict(size=12, opacity=0.8, line=dict(width=2, color='DarkSlateGrey')),\n",
    "    selector=dict(mode='markers')\n",
    ")\n",
    "\n",
    "# Show the plot\n",
    "fig.show()"
   ]
  },
  {
   "cell_type": "code",
   "execution_count": 119,
   "metadata": {},
   "outputs": [],
   "source": [
    "fig.write_html(\"pareto.html\")"
   ]
  }
 ],
 "metadata": {
  "kernelspec": {
   "display_name": "Python 3",
   "language": "python",
   "name": "python3"
  },
  "language_info": {
   "codemirror_mode": {
    "name": "ipython",
    "version": 3
   },
   "file_extension": ".py",
   "mimetype": "text/x-python",
   "name": "python",
   "nbconvert_exporter": "python",
   "pygments_lexer": "ipython3",
   "version": "3.10.10"
  }
 },
 "nbformat": 4,
 "nbformat_minor": 2
}
